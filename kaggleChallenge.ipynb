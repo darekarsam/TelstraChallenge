{
 "cells": [
  {
   "cell_type": "code",
   "execution_count": 247,
   "metadata": {
    "collapsed": false
   },
   "outputs": [
    {
     "data": {
      "text/html": [
       "<div>\n",
       "<table border=\"1\" class=\"dataframe\">\n",
       "  <thead>\n",
       "    <tr style=\"text-align: right;\">\n",
       "      <th></th>\n",
       "      <th>location</th>\n",
       "      <th>fault_severity</th>\n",
       "    </tr>\n",
       "    <tr>\n",
       "      <th>id</th>\n",
       "      <th></th>\n",
       "      <th></th>\n",
       "    </tr>\n",
       "  </thead>\n",
       "  <tbody>\n",
       "    <tr>\n",
       "      <th>14121</th>\n",
       "      <td>location 118</td>\n",
       "      <td>1</td>\n",
       "    </tr>\n",
       "    <tr>\n",
       "      <th>9320</th>\n",
       "      <td>location 91</td>\n",
       "      <td>0</td>\n",
       "    </tr>\n",
       "    <tr>\n",
       "      <th>14394</th>\n",
       "      <td>location 152</td>\n",
       "      <td>1</td>\n",
       "    </tr>\n",
       "    <tr>\n",
       "      <th>8218</th>\n",
       "      <td>location 931</td>\n",
       "      <td>1</td>\n",
       "    </tr>\n",
       "    <tr>\n",
       "      <th>14804</th>\n",
       "      <td>location 120</td>\n",
       "      <td>0</td>\n",
       "    </tr>\n",
       "  </tbody>\n",
       "</table>\n",
       "</div>"
      ],
      "text/plain": [
       "           location  fault_severity\n",
       "id                                 \n",
       "14121  location 118               1\n",
       "9320    location 91               0\n",
       "14394  location 152               1\n",
       "8218   location 931               1\n",
       "14804  location 120               0"
      ]
     },
     "execution_count": 247,
     "metadata": {},
     "output_type": "execute_result"
    }
   ],
   "source": [
    "import pandas as pd\n",
    "# Loading Data in Pandas Data Frames\n",
    "trainDF=pd.read_csv('train.csv',index_col=0)\n",
    "testDF=pd.read_csv('test.csv',index_col=0)\n",
    "# trainDF.location=trainDF.location.apply(lambda x: int(x.split(' ')[1]))\n",
    "# testDF.location=testDF.location.apply(lambda x: int(x.split(' ')[1]))\n",
    "# trainDF.describe()\n",
    "trainDF.head()"
   ]
  },
  {
   "cell_type": "code",
   "execution_count": 248,
   "metadata": {
    "collapsed": false
   },
   "outputs": [
    {
     "data": {
      "text/html": [
       "<div>\n",
       "<table border=\"1\" class=\"dataframe\">\n",
       "  <thead>\n",
       "    <tr style=\"text-align: right;\">\n",
       "      <th></th>\n",
       "      <th>fault_severity</th>\n",
       "      <th>location</th>\n",
       "    </tr>\n",
       "    <tr>\n",
       "      <th>id</th>\n",
       "      <th></th>\n",
       "      <th></th>\n",
       "    </tr>\n",
       "  </thead>\n",
       "  <tbody>\n",
       "    <tr>\n",
       "      <th>14121</th>\n",
       "      <td>1</td>\n",
       "      <td>location 118</td>\n",
       "    </tr>\n",
       "    <tr>\n",
       "      <th>9320</th>\n",
       "      <td>0</td>\n",
       "      <td>location 91</td>\n",
       "    </tr>\n",
       "    <tr>\n",
       "      <th>14394</th>\n",
       "      <td>1</td>\n",
       "      <td>location 152</td>\n",
       "    </tr>\n",
       "    <tr>\n",
       "      <th>8218</th>\n",
       "      <td>1</td>\n",
       "      <td>location 931</td>\n",
       "    </tr>\n",
       "    <tr>\n",
       "      <th>14804</th>\n",
       "      <td>0</td>\n",
       "      <td>location 120</td>\n",
       "    </tr>\n",
       "  </tbody>\n",
       "</table>\n",
       "</div>"
      ],
      "text/plain": [
       "       fault_severity      location\n",
       "id                                 \n",
       "14121               1  location 118\n",
       "9320                0   location 91\n",
       "14394               1  location 152\n",
       "8218                1  location 931\n",
       "14804               0  location 120"
      ]
     },
     "execution_count": 248,
     "metadata": {},
     "output_type": "execute_result"
    }
   ],
   "source": [
    "#merge test and train\n",
    "data=pd.concat([trainDF,testDF],axis=0)\n",
    "data.head()"
   ]
  },
  {
   "cell_type": "code",
   "execution_count": null,
   "metadata": {
    "collapsed": false
   },
   "outputs": [],
   "source": []
  },
  {
   "cell_type": "code",
   "execution_count": 249,
   "metadata": {
    "collapsed": false
   },
   "outputs": [
    {
     "data": {
      "text/plain": [
       "(18552, 2)"
      ]
     },
     "execution_count": 249,
     "metadata": {},
     "output_type": "execute_result"
    }
   ],
   "source": [
    "data.shape"
   ]
  },
  {
   "cell_type": "code",
   "execution_count": 250,
   "metadata": {
    "collapsed": true
   },
   "outputs": [],
   "source": [
    "eventTypeDF=pd.read_csv('event_type.csv',index_col=0)\n",
    "logFeatureDF=pd.read_csv('log_feature.csv',index_col=0)\n",
    "resourceTypeDF=pd.read_csv('resource_type.csv',index_col=0)\n",
    "severityTypeDF=pd.read_csv('severity_type.csv',index_col=0)"
   ]
  },
  {
   "cell_type": "code",
   "execution_count": 251,
   "metadata": {
    "collapsed": false
   },
   "outputs": [],
   "source": [
    "eventTypeVect=pd.get_dummies(eventTypeDF).groupby(eventTypeDF.index).sum()\n",
    "logFeatureVect=pd.get_dummies(logFeatureDF).groupby(logFeatureDF.index).sum()\n",
    "resourceTypeVect=pd.get_dummies(resourceTypeDF).groupby(resourceTypeDF.index).sum()\n",
    "severityTypeVect=pd.get_dummies(severityTypeDF).groupby(severityTypeDF.index).sum()"
   ]
  },
  {
   "cell_type": "code",
   "execution_count": 252,
   "metadata": {
    "collapsed": false
   },
   "outputs": [],
   "source": [
    "trainDF=trainDF.join(eventTypeVect).join(logFeatureVect).join(resourceTypeVect).join(severityTypeVect)"
   ]
  },
  {
   "cell_type": "code",
   "execution_count": 253,
   "metadata": {
    "collapsed": false
   },
   "outputs": [
    {
     "data": {
      "text/html": [
       "<div>\n",
       "<table border=\"1\" class=\"dataframe\">\n",
       "  <thead>\n",
       "    <tr style=\"text-align: right;\">\n",
       "      <th></th>\n",
       "      <th>location</th>\n",
       "      <th>fault_severity</th>\n",
       "      <th>event_type_event_type 1</th>\n",
       "      <th>event_type_event_type 10</th>\n",
       "      <th>event_type_event_type 11</th>\n",
       "      <th>event_type_event_type 12</th>\n",
       "      <th>event_type_event_type 13</th>\n",
       "      <th>event_type_event_type 14</th>\n",
       "      <th>event_type_event_type 15</th>\n",
       "      <th>event_type_event_type 17</th>\n",
       "      <th>...</th>\n",
       "      <th>resource_type_resource_type 5</th>\n",
       "      <th>resource_type_resource_type 6</th>\n",
       "      <th>resource_type_resource_type 7</th>\n",
       "      <th>resource_type_resource_type 8</th>\n",
       "      <th>resource_type_resource_type 9</th>\n",
       "      <th>severity_type_severity_type 1</th>\n",
       "      <th>severity_type_severity_type 2</th>\n",
       "      <th>severity_type_severity_type 3</th>\n",
       "      <th>severity_type_severity_type 4</th>\n",
       "      <th>severity_type_severity_type 5</th>\n",
       "    </tr>\n",
       "    <tr>\n",
       "      <th>id</th>\n",
       "      <th></th>\n",
       "      <th></th>\n",
       "      <th></th>\n",
       "      <th></th>\n",
       "      <th></th>\n",
       "      <th></th>\n",
       "      <th></th>\n",
       "      <th></th>\n",
       "      <th></th>\n",
       "      <th></th>\n",
       "      <th></th>\n",
       "      <th></th>\n",
       "      <th></th>\n",
       "      <th></th>\n",
       "      <th></th>\n",
       "      <th></th>\n",
       "      <th></th>\n",
       "      <th></th>\n",
       "      <th></th>\n",
       "      <th></th>\n",
       "      <th></th>\n",
       "    </tr>\n",
       "  </thead>\n",
       "  <tbody>\n",
       "    <tr>\n",
       "      <th>14121</th>\n",
       "      <td>location 118</td>\n",
       "      <td>1</td>\n",
       "      <td>0</td>\n",
       "      <td>0</td>\n",
       "      <td>0</td>\n",
       "      <td>0</td>\n",
       "      <td>0</td>\n",
       "      <td>0</td>\n",
       "      <td>0</td>\n",
       "      <td>0</td>\n",
       "      <td>...</td>\n",
       "      <td>0</td>\n",
       "      <td>0</td>\n",
       "      <td>0</td>\n",
       "      <td>0</td>\n",
       "      <td>0</td>\n",
       "      <td>0</td>\n",
       "      <td>1</td>\n",
       "      <td>0</td>\n",
       "      <td>0</td>\n",
       "      <td>0</td>\n",
       "    </tr>\n",
       "    <tr>\n",
       "      <th>9320</th>\n",
       "      <td>location 91</td>\n",
       "      <td>0</td>\n",
       "      <td>0</td>\n",
       "      <td>0</td>\n",
       "      <td>0</td>\n",
       "      <td>0</td>\n",
       "      <td>0</td>\n",
       "      <td>0</td>\n",
       "      <td>0</td>\n",
       "      <td>0</td>\n",
       "      <td>...</td>\n",
       "      <td>0</td>\n",
       "      <td>0</td>\n",
       "      <td>0</td>\n",
       "      <td>0</td>\n",
       "      <td>0</td>\n",
       "      <td>0</td>\n",
       "      <td>1</td>\n",
       "      <td>0</td>\n",
       "      <td>0</td>\n",
       "      <td>0</td>\n",
       "    </tr>\n",
       "    <tr>\n",
       "      <th>14394</th>\n",
       "      <td>location 152</td>\n",
       "      <td>1</td>\n",
       "      <td>0</td>\n",
       "      <td>0</td>\n",
       "      <td>0</td>\n",
       "      <td>0</td>\n",
       "      <td>0</td>\n",
       "      <td>0</td>\n",
       "      <td>0</td>\n",
       "      <td>0</td>\n",
       "      <td>...</td>\n",
       "      <td>0</td>\n",
       "      <td>0</td>\n",
       "      <td>0</td>\n",
       "      <td>0</td>\n",
       "      <td>0</td>\n",
       "      <td>0</td>\n",
       "      <td>1</td>\n",
       "      <td>0</td>\n",
       "      <td>0</td>\n",
       "      <td>0</td>\n",
       "    </tr>\n",
       "    <tr>\n",
       "      <th>8218</th>\n",
       "      <td>location 931</td>\n",
       "      <td>1</td>\n",
       "      <td>0</td>\n",
       "      <td>0</td>\n",
       "      <td>1</td>\n",
       "      <td>0</td>\n",
       "      <td>0</td>\n",
       "      <td>0</td>\n",
       "      <td>1</td>\n",
       "      <td>0</td>\n",
       "      <td>...</td>\n",
       "      <td>0</td>\n",
       "      <td>0</td>\n",
       "      <td>0</td>\n",
       "      <td>1</td>\n",
       "      <td>0</td>\n",
       "      <td>1</td>\n",
       "      <td>0</td>\n",
       "      <td>0</td>\n",
       "      <td>0</td>\n",
       "      <td>0</td>\n",
       "    </tr>\n",
       "    <tr>\n",
       "      <th>14804</th>\n",
       "      <td>location 120</td>\n",
       "      <td>0</td>\n",
       "      <td>0</td>\n",
       "      <td>0</td>\n",
       "      <td>1</td>\n",
       "      <td>0</td>\n",
       "      <td>0</td>\n",
       "      <td>0</td>\n",
       "      <td>0</td>\n",
       "      <td>0</td>\n",
       "      <td>...</td>\n",
       "      <td>0</td>\n",
       "      <td>0</td>\n",
       "      <td>0</td>\n",
       "      <td>1</td>\n",
       "      <td>0</td>\n",
       "      <td>1</td>\n",
       "      <td>0</td>\n",
       "      <td>0</td>\n",
       "      <td>0</td>\n",
       "      <td>0</td>\n",
       "    </tr>\n",
       "  </tbody>\n",
       "</table>\n",
       "<p>5 rows × 457 columns</p>\n",
       "</div>"
      ],
      "text/plain": [
       "           location  fault_severity  event_type_event_type 1  \\\n",
       "id                                                             \n",
       "14121  location 118               1                        0   \n",
       "9320    location 91               0                        0   \n",
       "14394  location 152               1                        0   \n",
       "8218   location 931               1                        0   \n",
       "14804  location 120               0                        0   \n",
       "\n",
       "       event_type_event_type 10  event_type_event_type 11  \\\n",
       "id                                                          \n",
       "14121                         0                         0   \n",
       "9320                          0                         0   \n",
       "14394                         0                         0   \n",
       "8218                          0                         1   \n",
       "14804                         0                         1   \n",
       "\n",
       "       event_type_event_type 12  event_type_event_type 13  \\\n",
       "id                                                          \n",
       "14121                         0                         0   \n",
       "9320                          0                         0   \n",
       "14394                         0                         0   \n",
       "8218                          0                         0   \n",
       "14804                         0                         0   \n",
       "\n",
       "       event_type_event_type 14  event_type_event_type 15  \\\n",
       "id                                                          \n",
       "14121                         0                         0   \n",
       "9320                          0                         0   \n",
       "14394                         0                         0   \n",
       "8218                          0                         1   \n",
       "14804                         0                         0   \n",
       "\n",
       "       event_type_event_type 17              ...                \\\n",
       "id                                           ...                 \n",
       "14121                         0              ...                 \n",
       "9320                          0              ...                 \n",
       "14394                         0              ...                 \n",
       "8218                          0              ...                 \n",
       "14804                         0              ...                 \n",
       "\n",
       "       resource_type_resource_type 5  resource_type_resource_type 6  \\\n",
       "id                                                                    \n",
       "14121                              0                              0   \n",
       "9320                               0                              0   \n",
       "14394                              0                              0   \n",
       "8218                               0                              0   \n",
       "14804                              0                              0   \n",
       "\n",
       "       resource_type_resource_type 7  resource_type_resource_type 8  \\\n",
       "id                                                                    \n",
       "14121                              0                              0   \n",
       "9320                               0                              0   \n",
       "14394                              0                              0   \n",
       "8218                               0                              1   \n",
       "14804                              0                              1   \n",
       "\n",
       "       resource_type_resource_type 9  severity_type_severity_type 1  \\\n",
       "id                                                                    \n",
       "14121                              0                              0   \n",
       "9320                               0                              0   \n",
       "14394                              0                              0   \n",
       "8218                               0                              1   \n",
       "14804                              0                              1   \n",
       "\n",
       "       severity_type_severity_type 2  severity_type_severity_type 3  \\\n",
       "id                                                                    \n",
       "14121                              1                              0   \n",
       "9320                               1                              0   \n",
       "14394                              1                              0   \n",
       "8218                               0                              0   \n",
       "14804                              0                              0   \n",
       "\n",
       "       severity_type_severity_type 4  severity_type_severity_type 5  \n",
       "id                                                                   \n",
       "14121                              0                              0  \n",
       "9320                               0                              0  \n",
       "14394                              0                              0  \n",
       "8218                               0                              0  \n",
       "14804                              0                              0  \n",
       "\n",
       "[5 rows x 457 columns]"
      ]
     },
     "execution_count": 253,
     "metadata": {},
     "output_type": "execute_result"
    }
   ],
   "source": [
    "trainDF.head()"
   ]
  },
  {
   "cell_type": "code",
   "execution_count": 254,
   "metadata": {
    "collapsed": false
   },
   "outputs": [
    {
     "data": {
      "text/html": [
       "<div>\n",
       "<table border=\"1\" class=\"dataframe\">\n",
       "  <thead>\n",
       "    <tr style=\"text-align: right;\">\n",
       "      <th></th>\n",
       "      <th>location</th>\n",
       "      <th>event_type_event_type 1</th>\n",
       "      <th>event_type_event_type 10</th>\n",
       "      <th>event_type_event_type 11</th>\n",
       "      <th>event_type_event_type 12</th>\n",
       "      <th>event_type_event_type 13</th>\n",
       "      <th>event_type_event_type 14</th>\n",
       "      <th>event_type_event_type 15</th>\n",
       "      <th>event_type_event_type 17</th>\n",
       "      <th>event_type_event_type 18</th>\n",
       "      <th>...</th>\n",
       "      <th>resource_type_resource_type 5</th>\n",
       "      <th>resource_type_resource_type 6</th>\n",
       "      <th>resource_type_resource_type 7</th>\n",
       "      <th>resource_type_resource_type 8</th>\n",
       "      <th>resource_type_resource_type 9</th>\n",
       "      <th>severity_type_severity_type 1</th>\n",
       "      <th>severity_type_severity_type 2</th>\n",
       "      <th>severity_type_severity_type 3</th>\n",
       "      <th>severity_type_severity_type 4</th>\n",
       "      <th>severity_type_severity_type 5</th>\n",
       "    </tr>\n",
       "    <tr>\n",
       "      <th>id</th>\n",
       "      <th></th>\n",
       "      <th></th>\n",
       "      <th></th>\n",
       "      <th></th>\n",
       "      <th></th>\n",
       "      <th></th>\n",
       "      <th></th>\n",
       "      <th></th>\n",
       "      <th></th>\n",
       "      <th></th>\n",
       "      <th></th>\n",
       "      <th></th>\n",
       "      <th></th>\n",
       "      <th></th>\n",
       "      <th></th>\n",
       "      <th></th>\n",
       "      <th></th>\n",
       "      <th></th>\n",
       "      <th></th>\n",
       "      <th></th>\n",
       "      <th></th>\n",
       "    </tr>\n",
       "  </thead>\n",
       "  <tbody>\n",
       "    <tr>\n",
       "      <th>11066</th>\n",
       "      <td>location 481</td>\n",
       "      <td>0</td>\n",
       "      <td>0</td>\n",
       "      <td>0</td>\n",
       "      <td>0</td>\n",
       "      <td>0</td>\n",
       "      <td>0</td>\n",
       "      <td>0</td>\n",
       "      <td>0</td>\n",
       "      <td>0</td>\n",
       "      <td>...</td>\n",
       "      <td>0</td>\n",
       "      <td>0</td>\n",
       "      <td>0</td>\n",
       "      <td>0</td>\n",
       "      <td>0</td>\n",
       "      <td>0</td>\n",
       "      <td>1</td>\n",
       "      <td>0</td>\n",
       "      <td>0</td>\n",
       "      <td>0</td>\n",
       "    </tr>\n",
       "    <tr>\n",
       "      <th>18000</th>\n",
       "      <td>location 962</td>\n",
       "      <td>0</td>\n",
       "      <td>0</td>\n",
       "      <td>1</td>\n",
       "      <td>0</td>\n",
       "      <td>0</td>\n",
       "      <td>0</td>\n",
       "      <td>1</td>\n",
       "      <td>0</td>\n",
       "      <td>0</td>\n",
       "      <td>...</td>\n",
       "      <td>0</td>\n",
       "      <td>0</td>\n",
       "      <td>0</td>\n",
       "      <td>1</td>\n",
       "      <td>0</td>\n",
       "      <td>1</td>\n",
       "      <td>0</td>\n",
       "      <td>0</td>\n",
       "      <td>0</td>\n",
       "      <td>0</td>\n",
       "    </tr>\n",
       "    <tr>\n",
       "      <th>16964</th>\n",
       "      <td>location 491</td>\n",
       "      <td>0</td>\n",
       "      <td>0</td>\n",
       "      <td>0</td>\n",
       "      <td>0</td>\n",
       "      <td>0</td>\n",
       "      <td>0</td>\n",
       "      <td>0</td>\n",
       "      <td>0</td>\n",
       "      <td>0</td>\n",
       "      <td>...</td>\n",
       "      <td>0</td>\n",
       "      <td>0</td>\n",
       "      <td>0</td>\n",
       "      <td>0</td>\n",
       "      <td>0</td>\n",
       "      <td>0</td>\n",
       "      <td>1</td>\n",
       "      <td>0</td>\n",
       "      <td>0</td>\n",
       "      <td>0</td>\n",
       "    </tr>\n",
       "    <tr>\n",
       "      <th>4795</th>\n",
       "      <td>location 532</td>\n",
       "      <td>0</td>\n",
       "      <td>1</td>\n",
       "      <td>0</td>\n",
       "      <td>0</td>\n",
       "      <td>0</td>\n",
       "      <td>0</td>\n",
       "      <td>0</td>\n",
       "      <td>0</td>\n",
       "      <td>0</td>\n",
       "      <td>...</td>\n",
       "      <td>0</td>\n",
       "      <td>0</td>\n",
       "      <td>0</td>\n",
       "      <td>0</td>\n",
       "      <td>1</td>\n",
       "      <td>0</td>\n",
       "      <td>0</td>\n",
       "      <td>0</td>\n",
       "      <td>0</td>\n",
       "      <td>1</td>\n",
       "    </tr>\n",
       "    <tr>\n",
       "      <th>3392</th>\n",
       "      <td>location 600</td>\n",
       "      <td>0</td>\n",
       "      <td>0</td>\n",
       "      <td>0</td>\n",
       "      <td>0</td>\n",
       "      <td>0</td>\n",
       "      <td>0</td>\n",
       "      <td>1</td>\n",
       "      <td>0</td>\n",
       "      <td>0</td>\n",
       "      <td>...</td>\n",
       "      <td>0</td>\n",
       "      <td>0</td>\n",
       "      <td>0</td>\n",
       "      <td>1</td>\n",
       "      <td>0</td>\n",
       "      <td>0</td>\n",
       "      <td>1</td>\n",
       "      <td>0</td>\n",
       "      <td>0</td>\n",
       "      <td>0</td>\n",
       "    </tr>\n",
       "  </tbody>\n",
       "</table>\n",
       "<p>5 rows × 456 columns</p>\n",
       "</div>"
      ],
      "text/plain": [
       "           location  event_type_event_type 1  event_type_event_type 10  \\\n",
       "id                                                                       \n",
       "11066  location 481                        0                         0   \n",
       "18000  location 962                        0                         0   \n",
       "16964  location 491                        0                         0   \n",
       "4795   location 532                        0                         1   \n",
       "3392   location 600                        0                         0   \n",
       "\n",
       "       event_type_event_type 11  event_type_event_type 12  \\\n",
       "id                                                          \n",
       "11066                         0                         0   \n",
       "18000                         1                         0   \n",
       "16964                         0                         0   \n",
       "4795                          0                         0   \n",
       "3392                          0                         0   \n",
       "\n",
       "       event_type_event_type 13  event_type_event_type 14  \\\n",
       "id                                                          \n",
       "11066                         0                         0   \n",
       "18000                         0                         0   \n",
       "16964                         0                         0   \n",
       "4795                          0                         0   \n",
       "3392                          0                         0   \n",
       "\n",
       "       event_type_event_type 15  event_type_event_type 17  \\\n",
       "id                                                          \n",
       "11066                         0                         0   \n",
       "18000                         1                         0   \n",
       "16964                         0                         0   \n",
       "4795                          0                         0   \n",
       "3392                          1                         0   \n",
       "\n",
       "       event_type_event_type 18              ...                \\\n",
       "id                                           ...                 \n",
       "11066                         0              ...                 \n",
       "18000                         0              ...                 \n",
       "16964                         0              ...                 \n",
       "4795                          0              ...                 \n",
       "3392                          0              ...                 \n",
       "\n",
       "       resource_type_resource_type 5  resource_type_resource_type 6  \\\n",
       "id                                                                    \n",
       "11066                              0                              0   \n",
       "18000                              0                              0   \n",
       "16964                              0                              0   \n",
       "4795                               0                              0   \n",
       "3392                               0                              0   \n",
       "\n",
       "       resource_type_resource_type 7  resource_type_resource_type 8  \\\n",
       "id                                                                    \n",
       "11066                              0                              0   \n",
       "18000                              0                              1   \n",
       "16964                              0                              0   \n",
       "4795                               0                              0   \n",
       "3392                               0                              1   \n",
       "\n",
       "       resource_type_resource_type 9  severity_type_severity_type 1  \\\n",
       "id                                                                    \n",
       "11066                              0                              0   \n",
       "18000                              0                              1   \n",
       "16964                              0                              0   \n",
       "4795                               1                              0   \n",
       "3392                               0                              0   \n",
       "\n",
       "       severity_type_severity_type 2  severity_type_severity_type 3  \\\n",
       "id                                                                    \n",
       "11066                              1                              0   \n",
       "18000                              0                              0   \n",
       "16964                              1                              0   \n",
       "4795                               0                              0   \n",
       "3392                               1                              0   \n",
       "\n",
       "       severity_type_severity_type 4  severity_type_severity_type 5  \n",
       "id                                                                   \n",
       "11066                              0                              0  \n",
       "18000                              0                              0  \n",
       "16964                              0                              0  \n",
       "4795                               0                              1  \n",
       "3392                               0                              0  \n",
       "\n",
       "[5 rows x 456 columns]"
      ]
     },
     "execution_count": 254,
     "metadata": {},
     "output_type": "execute_result"
    }
   ],
   "source": [
    "#prepare test data\n",
    "testDF=testDF.join(eventTypeVect).join(logFeatureVect).join(resourceTypeVect).join(severityTypeVect)\n",
    "testDF.head()"
   ]
  },
  {
   "cell_type": "code",
   "execution_count": 255,
   "metadata": {
    "collapsed": false
   },
   "outputs": [
    {
     "data": {
      "text/plain": [
       "count    7381.000000\n",
       "mean       31.820214\n",
       "std        78.927572\n",
       "min         1.000000\n",
       "25%         3.000000\n",
       "50%         8.000000\n",
       "75%        25.000000\n",
       "max      1649.000000\n",
       "Name: volume, dtype: float64"
      ]
     },
     "execution_count": 255,
     "metadata": {},
     "output_type": "execute_result"
    }
   ],
   "source": [
    "trainDF.volume.describe()"
   ]
  },
  {
   "cell_type": "code",
   "execution_count": 256,
   "metadata": {
    "collapsed": false
   },
   "outputs": [
    {
     "data": {
      "text/plain": [
       "id\n",
       "14121     38\n",
       "9320     316\n",
       "14394      2\n",
       "8218      22\n",
       "14804     12\n",
       "Name: volume, dtype: int64"
      ]
     },
     "execution_count": 256,
     "metadata": {},
     "output_type": "execute_result"
    }
   ],
   "source": [
    "trainDF.volume.head()"
   ]
  },
  {
   "cell_type": "code",
   "execution_count": 257,
   "metadata": {
    "collapsed": false
   },
   "outputs": [],
   "source": [
    "from matplotlib import pyplot as plt\n",
    "import numpy as np\n",
    "%matplotlib inline\n",
    "# trainDF['volume']=trainDF.volume.apply(np.log)\n",
    "# testDF['volume']=testDF.volume.apply(np.log)\n",
    "# trainDF.volume.hist()\n"
   ]
  },
  {
   "cell_type": "code",
   "execution_count": 258,
   "metadata": {
    "collapsed": false
   },
   "outputs": [],
   "source": [
    "X=trainDF\n",
    "X=X.drop(['volume','location','fault_severity'],axis=1)\n",
    "X=X.as_matrix()\n",
    "Y=trainDF.fault_severity\n",
    "Y=Y.as_matrix()"
   ]
  },
  {
   "cell_type": "code",
   "execution_count": null,
   "metadata": {
    "collapsed": false
   },
   "outputs": [],
   "source": []
  },
  {
   "cell_type": "code",
   "execution_count": 259,
   "metadata": {
    "collapsed": false
   },
   "outputs": [],
   "source": [
    "X_test=testDF\n",
    "X_test=X_test.drop(['volume','location'],axis=1)\n",
    "X_test=X_test.as_matrix()"
   ]
  },
  {
   "cell_type": "code",
   "execution_count": 260,
   "metadata": {
    "collapsed": true
   },
   "outputs": [],
   "source": [
    "from sklearn import metrics\n",
    "from sklearn import cross_validation\n",
    "from sklearn.multiclass import OneVsRestClassifier\n",
    "from sklearn.tree import DecisionTreeClassifier, export_graphviz\n",
    "from sklearn.naive_bayes import MultinomialNB,BernoulliNB,GaussianNB\n",
    "from sklearn.cross_validation import StratifiedKFold\n",
    "from sklearn.ensemble import RandomForestClassifier"
   ]
  },
  {
   "cell_type": "code",
   "execution_count": 261,
   "metadata": {
    "collapsed": false
   },
   "outputs": [
    {
     "name": "stdout",
     "output_type": "stream",
     "text": [
      "training classifier ...\n"
     ]
    },
    {
     "data": {
      "text/plain": [
       "MultinomialNB(alpha=1.0, class_prior=None, fit_prior=True)"
      ]
     },
     "execution_count": 261,
     "metadata": {},
     "output_type": "execute_result"
    }
   ],
   "source": [
    "clf = MultinomialNB()\n",
    "# clf=DecisionTreeClassifier(criterion=\"entropy\")\n",
    "print \"training classifier ...\"\n",
    "clf.fit(X,Y)"
   ]
  },
  {
   "cell_type": "code",
   "execution_count": 262,
   "metadata": {
    "collapsed": false
   },
   "outputs": [
    {
     "name": "stdout",
     "output_type": "stream",
     "text": [
      "performing cross fold validation ...\n"
     ]
    }
   ],
   "source": [
    "print \"performing cross fold validation ...\"\n",
    "predicted = cross_validation.cross_val_predict(clf, X, Y, cv=5)"
   ]
  },
  {
   "cell_type": "code",
   "execution_count": 243,
   "metadata": {
    "collapsed": false
   },
   "outputs": [
    {
     "name": "stdout",
     "output_type": "stream",
     "text": [
      "accuracy score:  0.606150928059\n",
      "precision score:  0.694727648035\n",
      "recall score:  0.606150928059\n"
     ]
    }
   ],
   "source": [
    "print \"accuracy score: \", metrics.accuracy_score(Y, predicted)\n",
    "print \"precision score: \", metrics.precision_score(Y, predicted,average='weighted')\n",
    "print \"recall score: \", metrics.recall_score(Y, predicted,average='weighted')"
   ]
  },
  {
   "cell_type": "code",
   "execution_count": 244,
   "metadata": {
    "collapsed": false
   },
   "outputs": [
    {
     "name": "stdout",
     "output_type": "stream",
     "text": [
      "classification_report: \n",
      "               precision    recall  f1-score   support\n",
      "\n",
      "          0       0.85      0.65      0.74      4784\n",
      "          1       0.44      0.41      0.43      1871\n",
      "          2       0.30      0.82      0.44       726\n",
      "\n",
      "avg / total       0.69      0.61      0.63      7381\n",
      "\n"
     ]
    }
   ],
   "source": [
    "print \"classification_report: \\n \", metrics.classification_report(Y, predicted)"
   ]
  },
  {
   "cell_type": "code",
   "execution_count": 263,
   "metadata": {
    "collapsed": false
   },
   "outputs": [
    {
     "name": "stdout",
     "output_type": "stream",
     "text": [
      "confusion_matrix:\n",
      "  [[3102  885  797]\n",
      " [ 527  780  564]\n",
      " [   9  124  593]]\n"
     ]
    }
   ],
   "source": [
    "print \"confusion_matrix:\\n \", metrics.confusion_matrix(Y,predicted)"
   ]
  },
  {
   "cell_type": "code",
   "execution_count": 264,
   "metadata": {
    "collapsed": false
   },
   "outputs": [],
   "source": [
    "# X_test.shape\n",
    "Y_test=clf.predict_proba(X_test)"
   ]
  },
  {
   "cell_type": "code",
   "execution_count": 265,
   "metadata": {
    "collapsed": false
   },
   "outputs": [],
   "source": [
    "# create submission\n",
    "submission = pd.DataFrame(Y_test,columns=['predict_0','predict_1','predict_2'])\n",
    "submission.head()\n",
    "submission['id']=testDF.index.values\n",
    "cols=submission.columns.tolist()\n",
    "cols=cols[-1:] + cols[:-1]\n",
    "submission=submission[cols]\n",
    "submission.to_csv(open('submission.csv','wt'),index=False)"
   ]
  },
  {
   "cell_type": "code",
   "execution_count": 266,
   "metadata": {
    "collapsed": false
   },
   "outputs": [
    {
     "data": {
      "text/html": [
       "<div>\n",
       "<table border=\"1\" class=\"dataframe\">\n",
       "  <thead>\n",
       "    <tr style=\"text-align: right;\">\n",
       "      <th></th>\n",
       "      <th>id</th>\n",
       "      <th>predict_0</th>\n",
       "      <th>predict_1</th>\n",
       "      <th>predict_2</th>\n",
       "    </tr>\n",
       "  </thead>\n",
       "  <tbody>\n",
       "    <tr>\n",
       "      <th>0</th>\n",
       "      <td>11066</td>\n",
       "      <td>0.999796</td>\n",
       "      <td>0.000204</td>\n",
       "      <td>1.106894e-12</td>\n",
       "    </tr>\n",
       "    <tr>\n",
       "      <th>1</th>\n",
       "      <td>18000</td>\n",
       "      <td>0.004178</td>\n",
       "      <td>0.059570</td>\n",
       "      <td>9.362523e-01</td>\n",
       "    </tr>\n",
       "    <tr>\n",
       "      <th>2</th>\n",
       "      <td>16964</td>\n",
       "      <td>0.999386</td>\n",
       "      <td>0.000614</td>\n",
       "      <td>6.955831e-11</td>\n",
       "    </tr>\n",
       "    <tr>\n",
       "      <th>3</th>\n",
       "      <td>4795</td>\n",
       "      <td>0.006220</td>\n",
       "      <td>0.986749</td>\n",
       "      <td>7.031309e-03</td>\n",
       "    </tr>\n",
       "    <tr>\n",
       "      <th>4</th>\n",
       "      <td>3392</td>\n",
       "      <td>0.019320</td>\n",
       "      <td>0.091621</td>\n",
       "      <td>8.890588e-01</td>\n",
       "    </tr>\n",
       "  </tbody>\n",
       "</table>\n",
       "</div>"
      ],
      "text/plain": [
       "      id  predict_0  predict_1     predict_2\n",
       "0  11066   0.999796   0.000204  1.106894e-12\n",
       "1  18000   0.004178   0.059570  9.362523e-01\n",
       "2  16964   0.999386   0.000614  6.955831e-11\n",
       "3   4795   0.006220   0.986749  7.031309e-03\n",
       "4   3392   0.019320   0.091621  8.890588e-01"
      ]
     },
     "execution_count": 266,
     "metadata": {},
     "output_type": "execute_result"
    }
   ],
   "source": [
    "submission.head()"
   ]
  },
  {
   "cell_type": "code",
   "execution_count": null,
   "metadata": {
    "collapsed": true
   },
   "outputs": [],
   "source": []
  }
 ],
 "metadata": {
  "kernelspec": {
   "display_name": "Python 2",
   "language": "python",
   "name": "python2"
  },
  "language_info": {
   "codemirror_mode": {
    "name": "ipython",
    "version": 2
   },
   "file_extension": ".py",
   "mimetype": "text/x-python",
   "name": "python",
   "nbconvert_exporter": "python",
   "pygments_lexer": "ipython2",
   "version": "2.7.11"
  }
 },
 "nbformat": 4,
 "nbformat_minor": 0
}
